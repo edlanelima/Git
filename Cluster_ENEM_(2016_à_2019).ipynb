{
  "cells": [
    {
      "cell_type": "markdown",
      "metadata": {
        "id": "view-in-github",
        "colab_type": "text"
      },
      "source": [
        "<a href=\"https://colab.research.google.com/github/edlanelima/Git/blob/main/Cluster_ENEM_(2016_%C3%A0_2019).ipynb\" target=\"_parent\"><img src=\"https://colab.research.google.com/assets/colab-badge.svg\" alt=\"Open In Colab\"/></a>"
      ]
    },
    {
      "cell_type": "markdown",
      "source": [],
      "metadata": {
        "id": "T5jBs3brcnkC"
      }
    },
    {
      "cell_type": "markdown",
      "source": [
        "# Importando e tratatando - 2016"
      ],
      "metadata": {
        "id": "HsAEVjB_igws"
      }
    },
    {
      "cell_type": "code",
      "execution_count": 2,
      "metadata": {
        "id": "QNEJbZigy9eq"
      },
      "outputs": [],
      "source": [
        "#Importação dos dados\n",
        "import pandas as pd\n",
        "import zipfile\n",
        "import numpy as np  \n",
        "import matplotlib.pyplot as plt"
      ]
    },
    {
      "cell_type": "code",
      "execution_count": null,
      "metadata": {
        "id": "7rR0GP16zvDT"
      },
      "outputs": [],
      "source": [
        "#Acessa o arquivo zipado na pasta\n",
        "with zipfile.ZipFile('/content/drive/MyDrive/Colab Notebooks/testando/microdados_enem_2016.zip') as z:\n",
        "  print(*z.namelist(), sep=\"\\n\")"
      ]
    },
    {
      "cell_type": "markdown",
      "source": [],
      "metadata": {
        "id": "iq9EWbeUcck9"
      }
    },
    {
      "cell_type": "code",
      "execution_count": null,
      "metadata": {
        "id": "l4F7fEYC2-OE"
      },
      "outputs": [],
      "source": [
        "#Acessa o arquivo zipado na pasta específica\n",
        "with zipfile.ZipFile('/content/drive/MyDrive/Colab Notebooks/testando/microdados_enem_2016.zip') as z:\n",
        "  with z.open('DADOS/microdados_enem_2016.csv') as f:\n",
        "    df16=pd.read_csv(f, sep=';', encoding = 'ISO-8859-1', nrows=0)"
      ]
    },
    {
      "cell_type": "code",
      "source": [
        "f.MAX_N\n"
      ],
      "metadata": {
        "colab": {
          "base_uri": "https://localhost:8080/"
        },
        "id": "TcdF4f5sCqnx",
        "outputId": "8ff2e2eb-0bae-4494-d166-1eebce1d8da2"
      },
      "execution_count": null,
      "outputs": [
        {
          "output_type": "execute_result",
          "data": {
            "text/plain": [
              "1073741824"
            ]
          },
          "metadata": {},
          "execution_count": 38
        }
      ]
    },
    {
      "cell_type": "code",
      "execution_count": null,
      "metadata": {
        "id": "aYPqbTYi3OOC",
        "colab": {
          "base_uri": "https://localhost:8080/"
        },
        "outputId": "411fa97d-2360-4638-fa8e-5db3d6461887"
      },
      "outputs": [
        {
          "output_type": "execute_result",
          "data": {
            "text/plain": [
              "NU_INSCRICAO      0.0\n",
              "Q021              0.0\n",
              "Q020              0.0\n",
              "Q019              0.0\n",
              "Q018              0.0\n",
              "                 ... \n",
              "TP_PRESENCA_LC    0.0\n",
              "TP_PRESENCA_CH    0.0\n",
              "TP_PRESENCA_CN    0.0\n",
              "NU_NOTA_COMP3     0.0\n",
              "Q050              0.0\n",
              "Length: 105, dtype: float64"
            ]
          },
          "metadata": {},
          "execution_count": 39
        }
      ],
      "source": [
        "#Verifica a quantidade de dados faltantes no dataframe\n",
        "df16.isna().sum().sort_values(ascending = True)\n",
        "\n",
        "\n",
        "#array = [df16[0:1]]\n",
        "\n",
        "#array[0:50]\n",
        "\n",
        "#type(array)"
      ]
    },
    {
      "cell_type": "code",
      "source": [],
      "metadata": {
        "id": "ZHQyCy1xCjBb"
      },
      "execution_count": null,
      "outputs": []
    },
    {
      "cell_type": "code",
      "execution_count": null,
      "metadata": {
        "id": "HmTa0ppE3mea"
      },
      "outputs": [],
      "source": [
        "#Determina quais colunas serão tratadas\n",
        "colunaTeste = ['TP_ESCOLA',  ]"
      ]
    },
    {
      "cell_type": "code",
      "execution_count": null,
      "metadata": {
        "id": "UDyIE0Ei3wVS"
      },
      "outputs": [],
      "source": [
        "#Acessa os dados utilizando o filtro preestabelecido\n",
        "with zipfile.ZipFile('/content/drive/MyDrive/Colab Notebooks/testando/microdados_enem_2016.zip') as z:\n",
        "  with z.open('DADOS/microdados_enem_2016.csv') as f:\n",
        "    df16=pd.read_csv(f, sep=';', encoding = 'ISO-8859-1', usecols=colunaTeste)"
      ]
    },
    {
      "cell_type": "code",
      "source": [
        "df16.count()"
      ],
      "metadata": {
        "id": "raUwZc7_mcx7"
      },
      "execution_count": null,
      "outputs": []
    },
    {
      "cell_type": "code",
      "execution_count": null,
      "metadata": {
        "id": "sV2IJ1zu76-I"
      },
      "outputs": [],
      "source": [
        "#Filtra a respectiva coluna somente para as escolas públicas\n",
        "df16.query('TP_ESCOLA == 2').count()"
      ]
    },
    {
      "cell_type": "code",
      "source": [
        "#Verifica a quantidade de dados faltantes no filtro preestabelecido\n",
        "df16.query('TP_ESCOLA == 2').isna().sum().sort_values(ascending = True)"
      ],
      "metadata": {
        "id": "GSSM6OdB0Noa"
      },
      "execution_count": null,
      "outputs": []
    },
    {
      "cell_type": "code",
      "source": [
        "#Exclui os dados faltantes conforme filtros preestabelecidos\n",
        "amostra16 = df16.query('TP_ESCOLA == 2').dropna()"
      ],
      "metadata": {
        "id": "fqrzqZkjxsdo"
      },
      "execution_count": null,
      "outputs": []
    },
    {
      "cell_type": "code",
      "source": [
        "#Contagem\n",
        "amostra16.count()"
      ],
      "metadata": {
        "id": "rpNf-UMLzwBy"
      },
      "execution_count": null,
      "outputs": []
    },
    {
      "cell_type": "code",
      "source": [
        "#Estatística descritiva dos dados\n",
        "amostra16.describe().round(2)"
      ],
      "metadata": {
        "id": "foOP-t4N2k9p"
      },
      "execution_count": null,
      "outputs": []
    },
    {
      "cell_type": "code",
      "source": [
        "#Cálculo do coeficiente de variação, para verificar outliers\n",
        "print(\"Coeficiente de variação:\\n\", np.std(amostra16)/np.mean(amostra16))"
      ],
      "metadata": {
        "id": "wgCUu5MK0FK2"
      },
      "execution_count": null,
      "outputs": []
    },
    {
      "cell_type": "code",
      "source": [
        "#Plotagem do gráfico histograma da coluna \"suspeita\" de outliers\n",
        "plt.hist(amostra16.NU_NOTA_REDACAO, 10, rwidth=0.9)\n",
        "plt.show()"
      ],
      "metadata": {
        "id": "rnn1kQso2Wz4"
      },
      "execution_count": null,
      "outputs": []
    },
    {
      "cell_type": "code",
      "source": [
        "#Importação das bibliotecas para utilzação do boxplot\n",
        "import seaborn as sns\n",
        "import matplotlib.pyplot as plt\n"
      ],
      "metadata": {
        "id": "Tmy7V4TABhpu"
      },
      "execution_count": null,
      "outputs": []
    },
    {
      "cell_type": "markdown",
      "source": [
        "\n",
        "\n",
        "# Importando e tratatando - 2017\n",
        "\n",
        "\n"
      ],
      "metadata": {
        "id": "6sCnF5lRiujF"
      }
    },
    {
      "cell_type": "code",
      "execution_count": null,
      "metadata": {
        "id": "1wAesPKfi3Lu"
      },
      "outputs": [],
      "source": [
        "#Importação dos dados\n",
        "import pandas as pd\n",
        "import zipfile\n",
        "import numpy as np\n",
        "import matplotlib.pyplot as plt"
      ]
    },
    {
      "cell_type": "code",
      "execution_count": null,
      "metadata": {
        "id": "bgR0Nte8i3Lw"
      },
      "outputs": [],
      "source": [
        "#Acessa o arquivo zipado na pasta\n",
        "with zipfile.ZipFile('/content/drive/MyDrive/Colab Notebooks/testando/microdados_enem_2017.zip') as z:\n",
        "  print(*z.namelist(), sep=\"\\n\")"
      ]
    },
    {
      "cell_type": "code",
      "execution_count": null,
      "metadata": {
        "id": "4l8NlBM-i3Lx"
      },
      "outputs": [],
      "source": [
        "#Acessa o arquivo zipado na pasta específica\n",
        "with zipfile.ZipFile('/content/drive/MyDrive/Colab Notebooks/testando/microdados_enem_2017.zip') as z:\n",
        "  with z.open('DADOS/MICRODADOS_ENEM_2017.csv') as f:\n",
        "    df17=pd.read_csv(f, sep=';', encoding = 'ISO-8859-1', nrows = 0)"
      ]
    },
    {
      "cell_type": "code",
      "execution_count": null,
      "metadata": {
        "id": "IS1CYwoQi3Lz"
      },
      "outputs": [],
      "source": [
        "#Determina quais colunas serão tratadas\n",
        "colunaTeste = ['TP_ESCOLA','NU_NOTA_CN', 'NU_NOTA_CH', 'NU_NOTA_LC', 'NU_NOTA_MT', 'NU_NOTA_REDACAO']"
      ]
    },
    {
      "cell_type": "code",
      "execution_count": null,
      "metadata": {
        "id": "yABnDcgNi3L0"
      },
      "outputs": [],
      "source": [
        "#Acessa os dados utilizando o filtro preestabelecido\n",
        "with zipfile.ZipFile('/content/drive/MyDrive/Colab Notebooks/testando/microdados_enem_2017.zip') as z:\n",
        "  with z.open('DADOS/MICRODADOS_ENEM_2017.csv') as f:\n",
        "    df17=pd.read_csv(f, sep=';', encoding = 'ISO-8859-1', usecols=colunaTeste)"
      ]
    },
    {
      "cell_type": "code",
      "source": [
        "df17.count()"
      ],
      "metadata": {
        "colab": {
          "base_uri": "https://localhost:8080/"
        },
        "id": "_bmrGKSfMIz6",
        "outputId": "14015b3e-1d28-488c-bee3-ed2b34a89da3"
      },
      "execution_count": null,
      "outputs": [
        {
          "output_type": "execute_result",
          "data": {
            "text/plain": [
              "TP_ESCOLA    6731278\n",
              "dtype: int64"
            ]
          },
          "metadata": {},
          "execution_count": 99
        }
      ]
    },
    {
      "cell_type": "code",
      "execution_count": null,
      "metadata": {
        "id": "KZz86Vkyi3L0"
      },
      "outputs": [],
      "source": [
        "#Filtra a respectiva coluna somente para as escolas públicas\n",
        "df17.query('TP_ESCOLA == 2').count()"
      ]
    },
    {
      "cell_type": "code",
      "source": [
        "#Verifica a quantidade de dados faltantes no filtro preestabelecido\n",
        "df17.query('TP_ESCOLA == 2').isna().sum().sort_values(ascending = True)"
      ],
      "metadata": {
        "id": "TF19hggWi3L1"
      },
      "execution_count": null,
      "outputs": []
    },
    {
      "cell_type": "code",
      "source": [
        "#Exclui os dados faltantes conforme filtros preestabelecidos\n",
        "amostra17 = df17.query('TP_ESCOLA == 2').dropna()"
      ],
      "metadata": {
        "id": "vu4qppxDi3L2"
      },
      "execution_count": null,
      "outputs": []
    },
    {
      "cell_type": "code",
      "source": [
        "#Contagem\n",
        "amostra17.count()"
      ],
      "metadata": {
        "id": "YED36TZhi3L3"
      },
      "execution_count": null,
      "outputs": []
    },
    {
      "cell_type": "code",
      "source": [
        "#Estatística descritiva dos dados\n",
        "amostra17.describe().round(2)"
      ],
      "metadata": {
        "id": "hyLvLte4i3L3"
      },
      "execution_count": null,
      "outputs": []
    },
    {
      "cell_type": "markdown",
      "source": [
        "# Importando e tratatando - 2018"
      ],
      "metadata": {
        "id": "qelXQb8qlmSs"
      }
    },
    {
      "cell_type": "code",
      "execution_count": null,
      "metadata": {
        "id": "GHzgc9xFltFV"
      },
      "outputs": [],
      "source": [
        "#Acessa o arquivo zipado na pasta\n",
        "with zipfile.ZipFile('/content/drive/MyDrive/Colab Notebooks/testando/microdados_enem_2018.zip') as z:\n",
        "  print(*z.namelist(), sep=\"\\n\")"
      ]
    },
    {
      "cell_type": "code",
      "execution_count": null,
      "metadata": {
        "id": "k7jY8U0zltFW"
      },
      "outputs": [],
      "source": [
        "#Acessa o arquivo zipado na pasta específica\n",
        "with zipfile.ZipFile('/content/drive/MyDrive/Colab Notebooks/testando/microdados_enem_2018.zip') as z:\n",
        "  with z.open('DADOS/MICRODADOS_ENEM_2018.csv') as f:\n",
        "    df18=pd.read_csv(f, sep=';', encoding = 'ISO-8859-1', nrows=0)"
      ]
    },
    {
      "cell_type": "code",
      "source": [
        "df18.count()"
      ],
      "metadata": {
        "id": "_Dfiz94gJEWk"
      },
      "execution_count": null,
      "outputs": []
    },
    {
      "cell_type": "code",
      "execution_count": null,
      "metadata": {
        "id": "p8r2UvYLltFW"
      },
      "outputs": [],
      "source": [
        "#Verifica a quantidade de dados faltantes no dataframe\n",
        "df18.isna().sum().sort_values(ascending = True)"
      ]
    },
    {
      "cell_type": "code",
      "execution_count": null,
      "metadata": {
        "id": "QFBd_a3rltFX"
      },
      "outputs": [],
      "source": [
        "#Determina quais colunas serão tratadas\n",
        "colunaTeste = ['TP_ESCOLA','NU_NOTA_CN', 'NU_NOTA_CH', 'NU_NOTA_LC', 'NU_NOTA_MT', 'NU_NOTA_REDACAO']"
      ]
    },
    {
      "cell_type": "code",
      "execution_count": null,
      "metadata": {
        "id": "LQdgYeMFltFX"
      },
      "outputs": [],
      "source": [
        "#Acessa os dados utilizando o filtro preestabelecido\n",
        "with zipfile.ZipFile('/content/drive/MyDrive/Colab Notebooks/testando/microdados_enem_2018.zip') as z:\n",
        "  with z.open('DADOS/MICRODADOS_ENEM_2018.csv') as f:\n",
        "    df18=pd.read_csv(f, sep=';', encoding = 'ISO-8859-1', usecols=colunaTeste)"
      ]
    },
    {
      "cell_type": "code",
      "execution_count": null,
      "metadata": {
        "id": "U3QMxoceltFY"
      },
      "outputs": [],
      "source": [
        "#Filtra a respectiva coluna somente para as escolas públicas\n",
        "df18.query('TP_ESCOLA == 2').count()"
      ]
    },
    {
      "cell_type": "code",
      "source": [
        "#Verifica a quantidade de dados faltantes no filtro preestabelecido\n",
        "df18.query('TP_ESCOLA == 2').isna().sum().sort_values(ascending = True)"
      ],
      "metadata": {
        "id": "InDD_63vltFY"
      },
      "execution_count": null,
      "outputs": []
    },
    {
      "cell_type": "code",
      "source": [
        "#Exclui os dados faltantes conforme filtros preestabelecidos\n",
        "amostra18 = df18.query('TP_ESCOLA == 2').dropna()"
      ],
      "metadata": {
        "id": "KoVr7oOvltFY"
      },
      "execution_count": null,
      "outputs": []
    },
    {
      "cell_type": "code",
      "source": [
        "#Contagem\n",
        "amostra18.count()"
      ],
      "metadata": {
        "id": "saCn-q23ltFZ"
      },
      "execution_count": null,
      "outputs": []
    },
    {
      "cell_type": "code",
      "source": [
        "#Estatística descritiva dos dados\n",
        "amostra18.describe().round(2)"
      ],
      "metadata": {
        "id": "lQuwHRmHltFZ"
      },
      "execution_count": null,
      "outputs": []
    },
    {
      "cell_type": "markdown",
      "source": [
        "# Importando e tratatando - 2019"
      ],
      "metadata": {
        "id": "D8j8-WqfDnts"
      }
    },
    {
      "cell_type": "code",
      "execution_count": 1,
      "metadata": {
        "id": "bO3JJNV7Dntu",
        "colab": {
          "base_uri": "https://localhost:8080/",
          "height": 200
        },
        "outputId": "d7a7b3ca-f33e-4f3e-9ec0-dedf7e2d957a"
      },
      "outputs": [
        {
          "output_type": "error",
          "ename": "NameError",
          "evalue": "ignored",
          "traceback": [
            "\u001b[0;31m---------------------------------------------------------------------------\u001b[0m",
            "\u001b[0;31mNameError\u001b[0m                                 Traceback (most recent call last)",
            "\u001b[0;32m<ipython-input-1-9a41c4f5e1ef>\u001b[0m in \u001b[0;36m<module>\u001b[0;34m\u001b[0m\n\u001b[1;32m      1\u001b[0m \u001b[0;31m#Acessa o arquivo zipado na pasta\u001b[0m\u001b[0;34m\u001b[0m\u001b[0;34m\u001b[0m\u001b[0;34m\u001b[0m\u001b[0m\n\u001b[0;32m----> 2\u001b[0;31m \u001b[0;32mwith\u001b[0m \u001b[0mzipfile\u001b[0m\u001b[0;34m.\u001b[0m\u001b[0mZipFile\u001b[0m\u001b[0;34m(\u001b[0m\u001b[0;34m'/content/drive/MyDrive/Colab Notebooks/testando/microdados_enem_2019.zip'\u001b[0m\u001b[0;34m)\u001b[0m \u001b[0;32mas\u001b[0m \u001b[0mz\u001b[0m\u001b[0;34m:\u001b[0m\u001b[0;34m\u001b[0m\u001b[0;34m\u001b[0m\u001b[0m\n\u001b[0m\u001b[1;32m      3\u001b[0m   \u001b[0mprint\u001b[0m\u001b[0;34m(\u001b[0m\u001b[0;34m*\u001b[0m\u001b[0mz\u001b[0m\u001b[0;34m.\u001b[0m\u001b[0mnamelist\u001b[0m\u001b[0;34m(\u001b[0m\u001b[0;34m)\u001b[0m\u001b[0;34m,\u001b[0m \u001b[0msep\u001b[0m\u001b[0;34m=\u001b[0m\u001b[0;34m\"\\n\"\u001b[0m\u001b[0;34m)\u001b[0m\u001b[0;34m\u001b[0m\u001b[0;34m\u001b[0m\u001b[0m\n",
            "\u001b[0;31mNameError\u001b[0m: name 'zipfile' is not defined"
          ]
        }
      ],
      "source": [
        "#Acessa o arquivo zipado na pasta\n",
        "with zipfile.ZipFile('/content/drive/MyDrive/Colab Notebooks/testando/microdados_enem_2019.zip') as z:\n",
        "  print(*z.namelist(), sep=\"\\n\")"
      ]
    },
    {
      "cell_type": "code",
      "execution_count": null,
      "metadata": {
        "id": "p5WrqpKNDntu"
      },
      "outputs": [],
      "source": [
        "#Acessa o arquivo zipado na pasta específica\n",
        "with zipfile.ZipFile('/content/drive/MyDrive/Colab Notebooks/testando/microdados_enem_2019.zip') as z:\n",
        "  with z.open('DADOS/MICRODADOS_ENEM_2019.csv') as f:\n",
        "    df19=pd.read_csv(f, sep=';', encoding = 'ISO-8859-1', nrows=0)"
      ]
    },
    {
      "cell_type": "code",
      "execution_count": null,
      "metadata": {
        "id": "S3nBSKTWDntv"
      },
      "outputs": [],
      "source": [
        "  #Verifica a quantidade de dados faltantes no dataframe\n",
        "df19.isna().sum().sort_values(ascending = True)"
      ]
    },
    {
      "cell_type": "code",
      "execution_count": null,
      "metadata": {
        "id": "CGpjpQbxDntv"
      },
      "outputs": [],
      "source": [
        "#Determina quais colunas serão tratadas\n",
        "colunaTeste = ['TP_ESCOLA','NU_NOTA_CN', 'NU_NOTA_CH', 'NU_NOTA_LC', 'NU_NOTA_MT', 'NU_NOTA_REDACAO']"
      ]
    },
    {
      "cell_type": "code",
      "execution_count": null,
      "metadata": {
        "id": "lrfaYEp8Dntw"
      },
      "outputs": [],
      "source": [
        "#Acessa os dados utilizando o filtro preestabelecido\n",
        "with zipfile.ZipFile('/content/drive/MyDrive/Colab Notebooks/testando/microdados_enem_2019.zip') as z:\n",
        "  with z.open('DADOS/MICRODADOS_ENEM_2019.csv') as f:\n",
        "    df19=pd.read_csv(f, sep=';', encoding = 'ISO-8859-1', usecols=colunaTeste)"
      ]
    },
    {
      "cell_type": "code",
      "execution_count": null,
      "metadata": {
        "id": "3t6gFoYFDntw"
      },
      "outputs": [],
      "source": [
        "#Filtra a respectiva coluna somente para as escolas públicas\n",
        "df19.query('TP_ESCOLA == 2').count()"
      ]
    },
    {
      "cell_type": "code",
      "source": [
        "#Verifica a quantidade de dados faltantes no filtro preestabelecido\n",
        "df19.query('TP_ESCOLA == 2').isna().sum().sort_values(ascending = True)"
      ],
      "metadata": {
        "id": "xiae5K9VDntx"
      },
      "execution_count": null,
      "outputs": []
    },
    {
      "cell_type": "code",
      "source": [
        "#Exclui os dados faltantes conforme filtros preestabelecidos\n",
        "amostra19 = df19.query('TP_ESCOLA == 2').dropna()"
      ],
      "metadata": {
        "id": "5FLY3xaVDntx"
      },
      "execution_count": null,
      "outputs": []
    },
    {
      "cell_type": "code",
      "source": [
        "#Contagem\n",
        "amostra19.count()"
      ],
      "metadata": {
        "id": "X7n1Zl6HDntx"
      },
      "execution_count": null,
      "outputs": []
    },
    {
      "cell_type": "code",
      "source": [
        "#Estatística descritiva dos dados\n",
        "amostra19.describe().round(2)\n"
      ],
      "metadata": {
        "id": "aIJKOPD5Dnty"
      },
      "execution_count": null,
      "outputs": []
    },
    {
      "cell_type": "markdown",
      "source": [
        "# Importando e tratatando - 2020\n"
      ],
      "metadata": {
        "id": "JvIUz7zjdB78"
      }
    },
    {
      "cell_type": "code",
      "execution_count": null,
      "metadata": {
        "id": "aAb6HATsdB78"
      },
      "outputs": [],
      "source": [
        "#Acessa o arquivo zipado na pasta\n",
        "with zipfile.ZipFile('/content/drive/MyDrive/Colab Notebooks/testando/microdados_enem_2020.zip') as z:\n",
        "  print(*z.namelist(), sep=\"\\n\")"
      ]
    },
    {
      "cell_type": "code",
      "execution_count": 5,
      "metadata": {
        "id": "Wn2RmjkjdB79"
      },
      "outputs": [],
      "source": [
        "#Acessa o arquivo zipado na pasta específica\n",
        "with zipfile.ZipFile('/content/drive/MyDrive/Colab Notebooks/testando/microdados_enem_2020.zip') as z:\n",
        "  with z.open('DADOS/MICRODADOS_ENEM_2020.csv') as f:\n",
        "    df20=pd.read_csv(f, sep=';', encoding = 'ISO-8859-1', nrows=0)"
      ]
    },
    {
      "cell_type": "code",
      "execution_count": null,
      "metadata": {
        "id": "wLykkl_AdB79"
      },
      "outputs": [],
      "source": [
        "  #Verifica a quantidade de dados faltantes no dataframe\n",
        "df20.isna().sum().sort_values(ascending = True)"
      ]
    },
    {
      "cell_type": "code",
      "execution_count": 6,
      "metadata": {
        "id": "4tMTLlLRdB7-"
      },
      "outputs": [],
      "source": [
        "#Determina quais colunas serão tratadas\n",
        "colunaTeste = ['TP_ESCOLA','NU_NOTA_MT']"
      ]
    },
    {
      "cell_type": "code",
      "execution_count": 7,
      "metadata": {
        "id": "B-ek7XLOdB7-"
      },
      "outputs": [],
      "source": [
        "#Acessa os dados utilizando o filtro preestabelecido\n",
        "with zipfile.ZipFile('/content/drive/MyDrive/Colab Notebooks/testando/microdados_enem_2020.zip') as z:\n",
        "  with z.open('DADOS/MICRODADOS_ENEM_2020.csv') as f:\n",
        "    df20=pd.read_csv(f, sep=';', encoding = 'ISO-8859-1', usecols=colunaTeste)"
      ]
    },
    {
      "cell_type": "code",
      "execution_count": 8,
      "metadata": {
        "colab": {
          "base_uri": "https://localhost:8080/"
        },
        "id": "YlJ7KruidB7-",
        "outputId": "8f70c3f3-bbc1-4f7b-81e4-da58aa16a421"
      },
      "outputs": [
        {
          "output_type": "execute_result",
          "data": {
            "text/plain": [
              "TP_ESCOLA     1194496\n",
              "NU_NOTA_MT     652544\n",
              "dtype: int64"
            ]
          },
          "metadata": {},
          "execution_count": 8
        }
      ],
      "source": [
        "#Filtra a respectiva coluna somente para as escolas públicas\n",
        "df20.query('TP_ESCOLA == 2').count()"
      ]
    },
    {
      "cell_type": "code",
      "source": [
        "#Verifica a quantidade de dados faltantes no filtro preestabelecido\n",
        "df20.query('TP_ESCOLA == 2').isna().sum().sort_values(ascending = True)"
      ],
      "metadata": {
        "colab": {
          "base_uri": "https://localhost:8080/"
        },
        "id": "AKNVdgb0dB7_",
        "outputId": "c5a4e05d-2298-4511-c9a6-3d0ad3b3324e"
      },
      "execution_count": 13,
      "outputs": [
        {
          "output_type": "execute_result",
          "data": {
            "text/plain": [
              "TP_ESCOLA          0\n",
              "NU_NOTA_MT    541952\n",
              "dtype: int64"
            ]
          },
          "metadata": {},
          "execution_count": 13
        }
      ]
    },
    {
      "cell_type": "code",
      "source": [
        "#Exclui os dados faltantes conforme filtros preestabelecidos\n",
        "amostra20 = df20.query('TP_ESCOLA == 2').dropna()\n",
        "#amostra20.isna().sum().sort_values(ascending = True)"
      ],
      "metadata": {
        "colab": {
          "base_uri": "https://localhost:8080/"
        },
        "id": "NjUtZJDKdB7_",
        "outputId": "4985a348-36c2-484e-e283-2dfac1bf21d2"
      },
      "execution_count": 22,
      "outputs": [
        {
          "output_type": "execute_result",
          "data": {
            "text/plain": [
              "TP_ESCOLA     0\n",
              "NU_NOTA_MT    0\n",
              "dtype: int64"
            ]
          },
          "metadata": {},
          "execution_count": 22
        }
      ]
    },
    {
      "cell_type": "code",
      "source": [
        "#Contagem\n",
        "amostra20.count()"
      ],
      "metadata": {
        "colab": {
          "base_uri": "https://localhost:8080/"
        },
        "id": "6d5sURnidB7_",
        "outputId": "1ab3b3d0-c0a1-4f08-c1e9-6bd84801a017"
      },
      "execution_count": 18,
      "outputs": [
        {
          "output_type": "execute_result",
          "data": {
            "text/plain": [
              "TP_ESCOLA     2597440\n",
              "NU_NOTA_MT    2597440\n",
              "dtype: int64"
            ]
          },
          "metadata": {},
          "execution_count": 18
        }
      ]
    },
    {
      "cell_type": "code",
      "source": [
        "#Estatística descritiva dos dados\n",
        "amostra20.describe().round(2)\n",
        "amostra20.median()"
      ],
      "metadata": {
        "colab": {
          "base_uri": "https://localhost:8080/"
        },
        "id": "3tW9znpndB8A",
        "outputId": "0f5d8dd4-eb81-4f4c-f9e7-fb1df8a7402d"
      },
      "execution_count": 25,
      "outputs": [
        {
          "output_type": "execute_result",
          "data": {
            "text/plain": [
              "TP_ESCOLA       2.0\n",
              "NU_NOTA_MT    484.5\n",
              "dtype: float64"
            ]
          },
          "metadata": {},
          "execution_count": 25
        }
      ]
    },
    {
      "cell_type": "markdown",
      "source": [
        "# Importando e tratatando - 2021\n"
      ],
      "metadata": {
        "id": "GKMEq1RbdJ95"
      }
    },
    {
      "cell_type": "code",
      "execution_count": 31,
      "metadata": {
        "colab": {
          "base_uri": "https://localhost:8080/"
        },
        "id": "lI9g0APDdJ96",
        "outputId": "560267a3-ea5e-4fa4-8a0a-a088c6346bd0"
      },
      "outputs": [
        {
          "output_type": "stream",
          "name": "stdout",
          "text": [
            "INPUTS/\n",
            "INPUTS/INPUT_R_ITENS_PROVA_2021.R\n",
            "INPUTS/INPUT_R_MICRODADOS_ENEM_2021.R\n",
            "INPUTS/INPUT_SAS_ITENS_PROVA_2021.sas\n",
            "INPUTS/INPUT_SAS_MICRODADOS_ENEM_2021.sas\n",
            "INPUTS/INPUT_SPSS_ITENS_PROVA_2021.sps\n",
            "INPUTS/INPUT_SPSS_MICRODADOS_ENEM_2021.sps\n",
            "LEIA-ME E DOCUMENTOS TÉCNICOS/\n",
            "LEIA-ME E DOCUMENTOS TÉCNICOS/Edital_Enem_2021_Digital.pdf\n",
            "LEIA-ME E DOCUMENTOS TÉCNICOS/Edital_Enem_2021_Impresso.pdf\n",
            "LEIA-ME E DOCUMENTOS TÉCNICOS/enem_procedimentos_de_analise.pdf\n",
            "LEIA-ME E DOCUMENTOS TÉCNICOS/entenda_a_sua_nota_no_enem_guia_do_participante (2).pdf\n",
            "LEIA-ME E DOCUMENTOS TÉCNICOS/Leia_Me_Enem_2021.pdf\n",
            "LEIA-ME E DOCUMENTOS TÉCNICOS/manual_de_redacao_do_enem_2020.pdf\n",
            "LEIA-ME E DOCUMENTOS TÉCNICOS/matriz_referencia_enem.pdf\n",
            "PROVAS E GABARITOS/\n",
            "PROVAS E GABARITOS/ENEM_2021_DIGITAL_CAD_01_DIA_1_AZUL_ESPANHOL.pdf\n",
            "PROVAS E GABARITOS/ENEM_2021_DIGITAL_CAD_01_DIA_1_AZUL_INGLES.pdf\n",
            "PROVAS E GABARITOS/ENEM_2021_DIGITAL_CAD_02_DIA_1_AMARELO_ESPANHOL.pdf\n",
            "PROVAS E GABARITOS/ENEM_2021_DIGITAL_CAD_02_DIA_1_AMARELO_INGLES.pdf\n",
            "PROVAS E GABARITOS/ENEM_2021_DIGITAL_CAD_03_DIA_1_BRANCO_ESPANHOL.pdf\n",
            "PROVAS E GABARITOS/ENEM_2021_DIGITAL_CAD_03_DIA_1_BRANCO_INGLES.pdf\n",
            "PROVAS E GABARITOS/ENEM_2021_DIGITAL_CAD_04_DIA_1_ROSA_ESPANHOL.pdf\n",
            "PROVAS E GABARITOS/ENEM_2021_DIGITAL_CAD_04_DIA_1_ROSA_INGLES.pdf\n",
            "PROVAS E GABARITOS/ENEM_2021_DIGITAL_CAD_05_DIA_2_AMARELO.pdf\n",
            "PROVAS E GABARITOS/ENEM_2021_DIGITAL_CAD_06_DIA_2_CINZA.pdf\n",
            "PROVAS E GABARITOS/ENEM_2021_DIGITAL_CAD_07_DIA_2_AZUL.pdf\n",
            "PROVAS E GABARITOS/ENEM_2021_DIGITAL_CAD_08_DIA_2_ROSA.pdf\n",
            "PROVAS E GABARITOS/ENEM_2021_DIGITAL_GAB_01_DIA_1_AZUL_ESPANHOL.pdf\n",
            "PROVAS E GABARITOS/ENEM_2021_DIGITAL_GAB_01_DIA_1_AZUL_INGLES.pdf\n",
            "PROVAS E GABARITOS/ENEM_2021_DIGITAL_GAB_02_DIA_1_AMARELO_ESPANHOL.pdf\n",
            "PROVAS E GABARITOS/ENEM_2021_DIGITAL_GAB_02_DIA_1_AMARELO_INGLES.pdf\n",
            "PROVAS E GABARITOS/ENEM_2021_DIGITAL_GAB_03_DIA_1_BRANCO_ESPANHOL.pdf\n",
            "PROVAS E GABARITOS/ENEM_2021_DIGITAL_GAB_03_DIA_1_BRANCO_INGLES.pdf\n",
            "PROVAS E GABARITOS/ENEM_2021_DIGITAL_GAB_04_DIA_1_ROSA_ESPANHOL.pdf\n",
            "PROVAS E GABARITOS/ENEM_2021_DIGITAL_GAB_04_DIA_1_ROSA_INGLES.pdf\n",
            "PROVAS E GABARITOS/ENEM_2021_DIGITAL_GAB_05_DIA_2_AMARELO.pdf\n",
            "PROVAS E GABARITOS/ENEM_2021_DIGITAL_GAB_06_DIA_2_CINZA.pdf\n",
            "PROVAS E GABARITOS/ENEM_2021_DIGITAL_GAB_07_DIA_2_AZUL.pdf\n",
            "PROVAS E GABARITOS/ENEM_2021_DIGITAL_GAB_08_DIA_2_ROSA.pdf\n",
            "PROVAS E GABARITOS/ENEM_2021_P1_CAD_01_DIA_1_AZUL.pdf\n",
            "PROVAS E GABARITOS/ENEM_2021_P1_CAD_02_DIA_1_AMARELO.pdf\n",
            "PROVAS E GABARITOS/ENEM_2021_P1_CAD_02_DIA_1_AMARELO_AMPLIADA.pdf\n",
            "PROVAS E GABARITOS/ENEM_2021_P1_CAD_02_DIA_1_AMARELO_SUPERAMPLIADA.pdf\n",
            "PROVAS E GABARITOS/ENEM_2021_P1_CAD_03_DIA_1_BRANCO.pdf\n",
            "PROVAS E GABARITOS/ENEM_2021_P1_CAD_04_DIA_1_ROSA.pdf\n",
            "PROVAS E GABARITOS/ENEM_2021_P1_CAD_05_DIA_2_AMARELO.pdf\n",
            "PROVAS E GABARITOS/ENEM_2021_P1_CAD_05_DIA_2_AMARELO_AMPLIADA.pdf\n",
            "PROVAS E GABARITOS/ENEM_2021_P1_CAD_05_DIA_2_AMARELO_SUPERAMPLIADA.pdf\n",
            "PROVAS E GABARITOS/ENEM_2021_P1_CAD_06_DIA_2_CINZA.pdf\n",
            "PROVAS E GABARITOS/ENEM_2021_P1_CAD_07_DIA_2_AZUL.pdf\n",
            "PROVAS E GABARITOS/ENEM_2021_P1_CAD_08_DIA_2_ROSA.pdf\n",
            "PROVAS E GABARITOS/ENEM_2021_P1_CAD_09_DIA_1_LARANJA_LEDOR.pdf\n",
            "PROVAS E GABARITOS/ENEM_2021_P1_CAD_10_DIA_1_VERDE_LIBRAS.pdf\n",
            "PROVAS E GABARITOS/ENEM_2021_P1_CAD_10_DIA_1_VERDE_LIBRAS_AMPLIADA.pdf\n",
            "PROVAS E GABARITOS/ENEM_2021_P1_CAD_10_DIA_1_VERDE_LIBRAS_SUPERAMPLIADA.pdf\n",
            "PROVAS E GABARITOS/ENEM_2021_P1_CAD_11_DIA_2_LARANJA_LEDOR.pdf\n",
            "PROVAS E GABARITOS/ENEM_2021_P1_CAD_12_DIA_2_VERDE_LIBRAS.pdf\n",
            "PROVAS E GABARITOS/ENEM_2021_P1_CAD_12_DIA_2_VERDE_LIBRAS_AMPLIADA.pdf\n",
            "PROVAS E GABARITOS/ENEM_2021_P1_CAD_12_DIA_2_VERDE_LIBRAS_SUPERAMPLIADA.pdf\n",
            "PROVAS E GABARITOS/ENEM_2021_P1_GAB_01_DIA_1_AZUL.pdf\n",
            "PROVAS E GABARITOS/ENEM_2021_P1_GAB_02_DIA_1_AMARELO.pdf\n",
            "PROVAS E GABARITOS/ENEM_2021_P1_GAB_02_DIA_1_AMARELO_AMPLIADA.pdf\n",
            "PROVAS E GABARITOS/ENEM_2021_P1_GAB_02_DIA_1_AMARELO_SUPERAMPLIADA.pdf\n",
            "PROVAS E GABARITOS/ENEM_2021_P1_GAB_03_DIA_1_BRANCO.pdf\n",
            "PROVAS E GABARITOS/ENEM_2021_P1_GAB_04_DIA_1_ROSA.pdf\n",
            "PROVAS E GABARITOS/ENEM_2021_P1_GAB_05_DIA_2_AMARELO.pdf\n",
            "PROVAS E GABARITOS/ENEM_2021_P1_GAB_05_DIA_2_AMARELO_AMPLIADA.pdf\n",
            "PROVAS E GABARITOS/ENEM_2021_P1_GAB_05_DIA_2_AMARELO_SUPERAMPLIADA.pdf\n",
            "PROVAS E GABARITOS/ENEM_2021_P1_GAB_06_DIA_2_CINZA.pdf\n",
            "PROVAS E GABARITOS/ENEM_2021_P1_GAB_07_DIA_2_AZUL.pdf\n",
            "PROVAS E GABARITOS/ENEM_2021_P1_GAB_08_DIA_2_ROSA.pdf\n",
            "PROVAS E GABARITOS/ENEM_2021_P1_GAB_09_DIA_1_LARANJA_LEDOR.pdf\n",
            "PROVAS E GABARITOS/ENEM_2021_P1_GAB_10_DIA_1_VERDE_LIBRAS.pdf\n",
            "PROVAS E GABARITOS/ENEM_2021_P1_GAB_10_DIA_1_VERDE_LIBRAS_AMPLIADA.pdf\n",
            "PROVAS E GABARITOS/ENEM_2021_P1_GAB_10_DIA_1_VERDE_LIBRAS_SUPERAMPLIADA.pdf\n",
            "PROVAS E GABARITOS/ENEM_2021_P1_GAB_11_DIA_2_LARANJA_LEDOR.pdf\n",
            "PROVAS E GABARITOS/ENEM_2021_P1_GAB_12_DIA_2_VERDE_LIBRAS.pdf\n",
            "PROVAS E GABARITOS/ENEM_2021_P1_GAB_12_DIA_2_VERDE_LIBRAS_AMPLIADA.pdf\n",
            "PROVAS E GABARITOS/ENEM_2021_P1_GAB_12_DIA_2_VERDE_LIBRAS_SUPERAMPLIADA.pdf\n",
            "PROVAS E GABARITOS/ENEM_2021_P2_CAD_01_DIA_1_AZUL.pdf\n",
            "PROVAS E GABARITOS/ENEM_2021_P2_CAD_02_DIA_1_AMARELO.pdf\n",
            "PROVAS E GABARITOS/ENEM_2021_P2_CAD_02_DIA_1_AMARELO_AMPLIADA.pdf\n",
            "PROVAS E GABARITOS/ENEM_2021_P2_CAD_02_DIA_1_AMARELO_SUPERAMPLIADA.pdf\n",
            "PROVAS E GABARITOS/ENEM_2021_P2_CAD_03_DIA_1_BRANCO.pdf\n",
            "PROVAS E GABARITOS/ENEM_2021_P2_CAD_04_DIA_1_ROSA.pdf\n",
            "PROVAS E GABARITOS/ENEM_2021_P2_CAD_05_DIA_2_AMARELO.pdf\n",
            "PROVAS E GABARITOS/ENEM_2021_P2_CAD_05_DIA_2_AMARELO_AMPLIADA.pdf\n",
            "PROVAS E GABARITOS/ENEM_2021_P2_CAD_05_DIA_2_AMARELO_SUPERAMPLIADA.pdf\n",
            "PROVAS E GABARITOS/ENEM_2021_P2_CAD_06_DIA_2_CINZA.pdf\n",
            "PROVAS E GABARITOS/ENEM_2021_P2_CAD_07_DIA_2_AZUL.pdf\n",
            "PROVAS E GABARITOS/ENEM_2021_P2_CAD_08_DIA_2_ROSA.pdf\n",
            "PROVAS E GABARITOS/ENEM_2021_P2_CAD_09_DIA_1_LARANJA_LEDOR.pdf\n",
            "PROVAS E GABARITOS/ENEM_2021_P2_CAD_11_DIA_2_LARANJA_LEDOR.pdf\n",
            "PROVAS E GABARITOS/ENEM_2021_P2_GAB_01_DIA_1_AZUL.pdf\n",
            "PROVAS E GABARITOS/ENEM_2021_P2_GAB_02_DIA_1_AMARELO.pdf\n",
            "PROVAS E GABARITOS/ENEM_2021_P2_GAB_02_DIA_1_AMARELO_AMPLIADA.pdf\n",
            "PROVAS E GABARITOS/ENEM_2021_P2_GAB_02_DIA_1_AMARELO_SUPERAMPLIADA.pdf\n",
            "PROVAS E GABARITOS/ENEM_2021_P2_GAB_03_DIA_1_BRANCO.pdf\n",
            "PROVAS E GABARITOS/ENEM_2021_P2_GAB_04_DIA_1_ROSA.pdf\n",
            "PROVAS E GABARITOS/ENEM_2021_P2_GAB_05_DIA_2_AMARELO.pdf\n",
            "PROVAS E GABARITOS/ENEM_2021_P2_GAB_05_DIA_2_AMARELO_AMPLIADA.pdf\n",
            "PROVAS E GABARITOS/ENEM_2021_P2_GAB_05_DIA_2_AMARELO_SUPERAMPLIADA.pdf\n",
            "PROVAS E GABARITOS/ENEM_2021_P2_GAB_06_DIA_2_CINZA.pdf\n",
            "PROVAS E GABARITOS/ENEM_2021_P2_GAB_07_DIA_2_AZUL.pdf\n",
            "PROVAS E GABARITOS/ENEM_2021_P2_GAB_08_DIA_2_ROSA.pdf\n",
            "PROVAS E GABARITOS/ENEM_2021_P2_GAB_09_DIA_1_LARANJA_LEDOR.pdf\n",
            "PROVAS E GABARITOS/ENEM_2021_P2_GAB_11_DIA_2_LARANJA_LEDOR.pdf\n",
            "DADOS/\n",
            "DADOS/ITENS_PROVA_2021.csv\n",
            "DADOS/MICRODADOS_ENEM_2021.csv\n",
            "DICION╡RIO/\n",
            "DICION╡RIO/Dicionário_Microdados_Enem_2021.ods\n",
            "DICION╡RIO/Dicionário_Microdados_Enem_2021.xlsx\n"
          ]
        }
      ],
      "source": [
        "#Acessa o arquivo zipado na pasta\n",
        "with zipfile.ZipFile('/content/drive/MyDrive/Colab Notebooks/testando/microdados_enem_2021.zip') as z:\n",
        "  print(*z.namelist(), sep=\"\\n\")"
      ]
    },
    {
      "cell_type": "code",
      "execution_count": 33,
      "metadata": {
        "id": "RJNNLJSMdJ96"
      },
      "outputs": [],
      "source": [
        "#Acessa o arquivo zipado na pasta específica\n",
        "with zipfile.ZipFile('/content/drive/MyDrive/Colab Notebooks/testando/microdados_enem_2021.zip') as z:\n",
        "  with z.open('DADOS/MICRODADOS_ENEM_2021.csv') as f:\n",
        "    df21=pd.read_csv(f, sep=';', encoding = 'ISO-8859-1', nrows=0)"
      ]
    },
    {
      "cell_type": "code",
      "execution_count": null,
      "metadata": {
        "id": "KQub_UsAdJ97"
      },
      "outputs": [],
      "source": [
        "  #Verifica a quantidade de dados faltantes no dataframe\n",
        "df19.isna().sum().sort_values(ascending = True)"
      ]
    },
    {
      "cell_type": "code",
      "execution_count": 34,
      "metadata": {
        "id": "YMNnmI3qdJ97"
      },
      "outputs": [],
      "source": [
        "#Determina quais colunas serão tratadas\n",
        "colunaTeste = ['TP_ESCOLA','NU_NOTA_MT']"
      ]
    },
    {
      "cell_type": "code",
      "execution_count": null,
      "metadata": {
        "id": "JVJr77mkdJ98"
      },
      "outputs": [],
      "source": [
        "#Acessa os dados utilizando o filtro preestabelecido\n",
        "with zipfile.ZipFile('/content/drive/MyDrive/Colab Notebooks/testando/microdados_enem_2019.zip') as z:\n",
        "  with z.open('DADOS/MICRODADOS_ENEM_2019.csv') as f:\n",
        "    df19=pd.read_csv(f, sep=';', encoding = 'ISO-8859-1', usecols=colunaTeste)"
      ]
    },
    {
      "cell_type": "code",
      "execution_count": null,
      "metadata": {
        "id": "VLY93u2idJ98"
      },
      "outputs": [],
      "source": [
        "#Filtra a respectiva coluna somente para as escolas públicas\n",
        "df19.query('TP_ESCOLA == 2').count()"
      ]
    },
    {
      "cell_type": "code",
      "source": [
        "#Verifica a quantidade de dados faltantes no filtro preestabelecido\n",
        "df19.query('TP_ESCOLA == 2').isna().sum().sort_values(ascending = True)"
      ],
      "metadata": {
        "id": "BOvNY_OtdJ98"
      },
      "execution_count": null,
      "outputs": []
    },
    {
      "cell_type": "code",
      "source": [
        "#Exclui os dados faltantes conforme filtros preestabelecidos\n",
        "amostra19 = df19.query('TP_ESCOLA == 2').dropna()"
      ],
      "metadata": {
        "id": "8ij0hqWkdJ99"
      },
      "execution_count": null,
      "outputs": []
    },
    {
      "cell_type": "code",
      "source": [
        "#Contagem\n",
        "amostra19.count()"
      ],
      "metadata": {
        "id": "KDTXHCkbdJ99"
      },
      "execution_count": null,
      "outputs": []
    },
    {
      "cell_type": "code",
      "source": [
        "#Estatística descritiva dos dados\n",
        "amostra19.describe().round(2)\n"
      ],
      "metadata": {
        "id": "Vnod7WHtdJ99"
      },
      "execution_count": null,
      "outputs": []
    },
    {
      "cell_type": "code",
      "execution_count": null,
      "metadata": {
        "id": "2XfsvkSVpqeC"
      },
      "outputs": [],
      "source": [
        "#Acessa o arquivo zipado na pasta\n",
        "with zipfile.ZipFile('/content/drive/MyDrive/Colab Notebooks/testando/microdados_enem_2020.zip') as z:\n",
        "  print(*z.namelist(), sep=\"\\n\")"
      ]
    },
    {
      "cell_type": "code",
      "execution_count": null,
      "metadata": {
        "id": "4FlfSR9vpqeD"
      },
      "outputs": [],
      "source": [
        "#Acessa o arquivo zipado na pasta específica\n",
        "with zipfile.ZipFile('/content/drive/MyDrive/Colab Notebooks/testando/microdados_enem_2020.zip') as z:\n",
        "  with z.open('DADOS/MICRODADOS_ENEM_2020.csv') as f:\n",
        "    df20=pd.read_csv(f, sep=';', encoding = 'ISO-8859-1', nrows=0)"
      ]
    },
    {
      "cell_type": "code",
      "execution_count": null,
      "metadata": {
        "id": "W_LXhB6zpqeD"
      },
      "outputs": [],
      "source": [
        "  #Verifica a quantidade de dados faltantes no dataframe\n",
        "df20.isna().sum().sort_values(ascending = True)"
      ]
    },
    {
      "cell_type": "code",
      "execution_count": null,
      "metadata": {
        "id": "_Vc_tNyOpqeE"
      },
      "outputs": [],
      "source": [
        "#Determina quais colunas serão tratadas\n",
        "colunaTeste = ['TP_ESCOLA','NU_NOTA_MT']"
      ]
    },
    {
      "cell_type": "code",
      "execution_count": null,
      "metadata": {
        "id": "PQYyEqaDpqeE"
      },
      "outputs": [],
      "source": [
        "#Acessa os dados utilizando o filtro preestabelecido\n",
        "with zipfile.ZipFile('/content/drive/MyDrive/Colab Notebooks/testando/microdados_enem_2020.zip') as z:\n",
        "  with z.open('DADOS/MICRODADOS_ENEM_2020.csv') as f:\n",
        "    df20=pd.read_csv(f, sep=';', encoding = 'ISO-8859-1', usecols=colunaTeste)"
      ]
    },
    {
      "cell_type": "code",
      "execution_count": null,
      "metadata": {
        "colab": {
          "base_uri": "https://localhost:8080/"
        },
        "outputId": "8f70c3f3-bbc1-4f7b-81e4-da58aa16a421",
        "id": "tXvM1MLupqeF"
      },
      "outputs": [
        {
          "output_type": "execute_result",
          "data": {
            "text/plain": [
              "TP_ESCOLA     1194496\n",
              "NU_NOTA_MT     652544\n",
              "dtype: int64"
            ]
          },
          "metadata": {},
          "execution_count": 8
        }
      ],
      "source": [
        "#Filtra a respectiva coluna somente para as escolas públicas\n",
        "df20.query('TP_ESCOLA == 2').count()"
      ]
    },
    {
      "cell_type": "code",
      "source": [
        "#Verifica a quantidade de dados faltantes no filtro preestabelecido\n",
        "df20.query('TP_ESCOLA == 2').isna().sum().sort_values(ascending = True)"
      ],
      "metadata": {
        "colab": {
          "base_uri": "https://localhost:8080/"
        },
        "outputId": "c5a4e05d-2298-4511-c9a6-3d0ad3b3324e",
        "id": "nP0Ej3uqpqeG"
      },
      "execution_count": null,
      "outputs": [
        {
          "output_type": "execute_result",
          "data": {
            "text/plain": [
              "TP_ESCOLA          0\n",
              "NU_NOTA_MT    541952\n",
              "dtype: int64"
            ]
          },
          "metadata": {},
          "execution_count": 13
        }
      ]
    },
    {
      "cell_type": "code",
      "source": [
        "#Exclui os dados faltantes conforme filtros preestabelecidos\n",
        "amostra20 = df20.query('TP_ESCOLA == 2').dropna()\n",
        "#amostra20.isna().sum().sort_values(ascending = True)"
      ],
      "metadata": {
        "colab": {
          "base_uri": "https://localhost:8080/"
        },
        "outputId": "4985a348-36c2-484e-e283-2dfac1bf21d2",
        "id": "u04hjfp9pqeG"
      },
      "execution_count": null,
      "outputs": [
        {
          "output_type": "execute_result",
          "data": {
            "text/plain": [
              "TP_ESCOLA     0\n",
              "NU_NOTA_MT    0\n",
              "dtype: int64"
            ]
          },
          "metadata": {},
          "execution_count": 22
        }
      ]
    },
    {
      "cell_type": "code",
      "source": [
        "#Contagem\n",
        "amostra20.count()"
      ],
      "metadata": {
        "colab": {
          "base_uri": "https://localhost:8080/"
        },
        "outputId": "1ab3b3d0-c0a1-4f08-c1e9-6bd84801a017",
        "id": "-NugEO3bpqeH"
      },
      "execution_count": null,
      "outputs": [
        {
          "output_type": "execute_result",
          "data": {
            "text/plain": [
              "TP_ESCOLA     2597440\n",
              "NU_NOTA_MT    2597440\n",
              "dtype: int64"
            ]
          },
          "metadata": {},
          "execution_count": 18
        }
      ]
    },
    {
      "cell_type": "code",
      "source": [
        "#Estatística descritiva dos dados\n",
        "amostra20.describe().round(2)\n",
        "amostra20.median()"
      ],
      "metadata": {
        "colab": {
          "base_uri": "https://localhost:8080/"
        },
        "outputId": "0f5d8dd4-eb81-4f4c-f9e7-fb1df8a7402d",
        "id": "KILvAD0spqeH"
      },
      "execution_count": null,
      "outputs": [
        {
          "output_type": "execute_result",
          "data": {
            "text/plain": [
              "TP_ESCOLA       2.0\n",
              "NU_NOTA_MT    484.5\n",
              "dtype: float64"
            ]
          },
          "metadata": {},
          "execution_count": 25
        }
      ]
    },
    {
      "cell_type": "markdown",
      "source": [
        "# Quantidade de cluster\n"
      ],
      "metadata": {
        "id": "Yra78UTOiPzB"
      }
    },
    {
      "cell_type": "code",
      "source": [
        "# Cria a Curva de Cotovelo para encontrar o Numero Ideal de Clusters\n",
        "from sklearn.cluster import KMeans\n",
        "wcss = []"
      ],
      "metadata": {
        "id": "tHslEY6INDeq"
      },
      "execution_count": 23,
      "outputs": []
    },
    {
      "cell_type": "code",
      "source": [
        "wcss = []\n",
        "for i in range(1, 11):\n",
        "    kmeans = KMeans(n_clusters = i, max_iter = 300, n_init = 10, random_state = 0)\n",
        "    kmeans.fit(amostra20)\n",
        "    wcss.append(kmeans.inertia_)\n",
        "    # Mostra o Gráfico\n",
        "plt.plot(range(1, 11), wcss)\n",
        "plt.title('Curva de Cotovelo')\n",
        "plt.xlabel('Numero de Clusters')\n",
        "plt.ylabel('WCSS') #within cluster sum of squares\n",
        "plt.show()\n"
      ],
      "metadata": {
        "id": "pBSz_3TeJveB",
        "colab": {
          "base_uri": "https://localhost:8080/",
          "height": 295
        },
        "outputId": "c362362f-80e8-41d7-f6f2-7fa7862d9bc6"
      },
      "execution_count": 24,
      "outputs": [
        {
          "output_type": "display_data",
          "data": {
            "text/plain": [
              "<Figure size 432x288 with 1 Axes>"
            ],
            "image/png": "[encoded data removed]"
          },
          "metadata": {
            "needs_background": "light"
          }
        }
      ]
    },
    {
      "cell_type": "code",
      "source": [
        "# Mostra o Gráfico\n",
        "plt.plot(range(1, 11), wcss)\n",
        "plt.title('Curva de Cotovelo')\n",
        "plt.xlabel('Numero de Clusters')\n",
        "plt.ylabel('WCSS') #within cluster sum of squares\n",
        "plt.show()"
      ],
      "metadata": {
        "id": "9i2bI-uMKsGt",
        "colab": {
          "base_uri": "https://localhost:8080/",
          "height": 295
        },
        "outputId": "79882360-fd2e-4e9c-9890-27623fd728a2"
      },
      "execution_count": 26,
      "outputs": [
        {
          "output_type": "display_data",
          "data": {
            "text/plain": [
              "<Figure size 432x288 with 1 Axes>"
            ],
            "image/png": "[encoded data removed]"
          },
          "metadata": {
            "needs_background": "light"
          }
        }
      ]
    },
    {
      "cell_type": "markdown",
      "source": [],
      "metadata": {
        "id": "EsAlpcAZc7ta"
      }
    },
    {
      "cell_type": "markdown",
      "source": [
        "# Cluster por ano\n"
      ],
      "metadata": {
        "id": "-Sg4RH1OLBoL"
      }
    },
    {
      "cell_type": "markdown",
      "source": [
        "## CLUSTER 2016"
      ],
      "metadata": {
        "id": "FZ-0Wz6UI1LK"
      }
    },
    {
      "cell_type": "code",
      "source": [
        "from sklearn.cluster import KMeans\n",
        "\n",
        "n_clusters = 3\n",
        "\n",
        "means_cluster = KMeans(n_clusters=n_clusters, random_state=111)\n",
        "columns = [\"NU_NOTA_CN\", \"NU_NOTA_CH\", \"NU_NOTA_LC\", \"NU_NOTA_MT\", \"NU_NOTA_REDACAO\"]\n",
        "est = means_cluster.fit(amostra16[columns])\n",
        "clusters = est.labels_\n",
        "amostra16['cluster'] = clusters\n",
        "\n",
        "for c in range(n_clusters):\n",
        "    cluster_members=amostra16[amostra16['cluster'] == c][:]\n",
        "    print('Cluster{}(n={}):'.format(c, len(cluster_members)))\n",
        "    print('-'* 17)\n",
        "print(amostra16.groupby(['cluster']).mean())"
      ],
      "metadata": {
        "id": "dIZVOakjAQTh"
      },
      "execution_count": null,
      "outputs": []
    },
    {
      "cell_type": "code",
      "source": [
        "amostra16 = amostra16.drop(columns=['ANO'])\n",
        "amostra16  = amostra16.rename(columns={'NU_NOTA_CN': 'C. NATUREZA'})\n",
        "amostra16  = amostra16.rename(columns={'NU_NOTA_CH': 'C. HUMANAS'})\n",
        "amostra16  = amostra16.rename(columns={'NU_NOTA_LC': 'LINGUAGEM'})\n",
        "amostra16  = amostra16.rename(columns={'NU_NOTA_MT': 'MATEMATICA'})\n",
        "amostra16  = amostra16.rename(columns={'NU_NOTA_REDACAO': 'REDAÇÃO'})\n",
        "\n",
        "for c in range(n_clusters):\n",
        "    cluster_members=amostra16[amostra16['cluster'] == c][:]\n",
        "    print('Cluster{}(n={}):'.format(c, len(cluster_members)))\n",
        "    print('-'* 17)\n",
        "cluster16 = amostra16.groupby(['cluster']).mean().plot.bar()\n",
        "cluster16.legend(bbox_to_anchor=(1.4, 0.9))  "
      ],
      "metadata": {
        "id": "xi2jjx-fCO4F"
      },
      "execution_count": null,
      "outputs": []
    },
    {
      "cell_type": "code",
      "source": [
        "cluster16 = amostra16.groupby(['cluster']).mean().plot.bar() ,\n",
        "cluster17 = amostra16.groupby(['cluster']).mean().plot.bar()\n",
        "cluster18 = amostra16.groupby(['cluster']).mean().plot.bar()\n",
        "cluster19 = amostra16.groupby(['cluster']).mean().plot.bar()"
      ],
      "metadata": {
        "id": "sgNeH9u2mGE1"
      },
      "execution_count": null,
      "outputs": []
    },
    {
      "cell_type": "markdown",
      "source": [
        "## CLUSTER 2017"
      ],
      "metadata": {
        "id": "IQQvpgxGI-9R"
      }
    },
    {
      "cell_type": "code",
      "source": [
        "from sklearn.cluster import KMeans\n",
        "n_clusters = 3\n",
        "\n",
        "means_cluster = KMeans(n_clusters=n_clusters, random_state=111)\n",
        "columns = [\"NU_NOTA_CN\", \"NU_NOTA_CH\", \"NU_NOTA_LC\", \"NU_NOTA_MT\", \"NU_NOTA_REDACAO\"]\n",
        "est = means_cluster.fit(amostra17[columns])\n",
        "clusters = est.labels_\n",
        "amostra17['cluster'] = clusters\n",
        "\n",
        "for c in range(n_clusters):\n",
        "    cluster_members=amostra17[amostra17['cluster'] == c][:]\n",
        "    print('Cluster{}(n={}):'.format(c, len(cluster_members)))\n",
        "    print('-'* 17)\n",
        "print(amostra17.groupby(['cluster']).mean())"
      ],
      "metadata": {
        "id": "kAflSFSQJCrN"
      },
      "execution_count": null,
      "outputs": []
    },
    {
      "cell_type": "code",
      "source": [
        "amostra17 = amostra17.drop(columns = ['ANO', 'TP_ESCOLA'])\n",
        "amostra17  = amostra17.rename(columns={'NU_NOTA_CN': 'C. NATUREZA'})\n",
        "amostra17  = amostra17.rename(columns={'NU_NOTA_CH': 'C. HUMANAS'})\n",
        "amostra17  = amostra17.rename(columns={'NU_NOTA_LC': 'LINGUAGEM'})\n",
        "amostra17  = amostra17.rename(columns={'NU_NOTA_MT': 'MATEMATICA'})\n",
        "amostra17  = amostra17.rename(columns={'NU_NOTA_REDACAO': 'REDAÇÃO'})\n",
        "\n",
        "\n",
        "for c in range(n_clusters):\n",
        "    cluster_members=amostra17[amostra17['cluster'] == c][:]\n",
        "    print('Cluster{}(n={}):'.format(c, len(cluster_members)))\n",
        "    print('-'* 17)\n",
        "cluster17 = amostra17.groupby(['cluster']).mean().plot.bar()\n",
        "cluster17.legend(bbox_to_anchor=(1.4, 0.9)) "
      ],
      "metadata": {
        "id": "ygyh1pojJCrP"
      },
      "execution_count": null,
      "outputs": []
    },
    {
      "cell_type": "markdown",
      "source": [
        "## CLUSTER 2018"
      ],
      "metadata": {
        "id": "XFMGI3DCJtqE"
      }
    },
    {
      "cell_type": "code",
      "source": [
        "from sklearn.cluster import KMeans\n",
        "\n",
        "n_clusters = 3\n",
        "\n",
        "means_cluster = KMeans(n_clusters=n_clusters, random_state=111)\n",
        "columns = [\"NU_NOTA_CN\", \"NU_NOTA_CH\", \"NU_NOTA_LC\", \"NU_NOTA_MT\", \"NU_NOTA_REDACAO\"]\n",
        "est = means_cluster.fit(amostra18[columns])\n",
        "clusters = est.labels_\n",
        "amostra18['cluster'] = clusters\n",
        "\n",
        "for c in range(n_clusters):\n",
        "    cluster_members=amostra18[amostra18['cluster'] == c][:]\n",
        "    print('Cluster{}(n={}):'.format(c, len(cluster_members)))\n",
        "    print('-'* 17)\n",
        "print(amostra18.groupby(['cluster']).mean())"
      ],
      "metadata": {
        "id": "70FCRGtCJ0wi"
      },
      "execution_count": null,
      "outputs": []
    },
    {
      "cell_type": "code",
      "source": [
        "amostra18 = amostra18.drop(columns = ['ANO', 'TP_ESCOLA'])\n",
        "\n",
        "amostra18  = amostra18.rename(columns={'NU_NOTA_CN': 'C. NATUREZA'})\n",
        "amostra18  = amostra18.rename(columns={'NU_NOTA_CH': 'C. HUMANAS'})\n",
        "amostra18  = amostra18.rename(columns={'NU_NOTA_LC': 'LINGUAGEM'})\n",
        "amostra18  = amostra18.rename(columns={'NU_NOTA_MT': 'MATEMATICA'})\n",
        "amostra18  = amostra18.rename(columns={'NU_NOTA_REDACAO': 'REDAÇÃO'})\n",
        "\n",
        "for c in range(n_clusters):\n",
        "    cluster_members=amostra18[amostra18['cluster'] == c][:]\n",
        "    print('Cluster{}(n={}):'.format(c, len(cluster_members)))\n",
        "    print('-'* 17)\n",
        "cluster18 = amostra18.groupby(['cluster']).mean().plot.bar()\n",
        "cluster18.legend(bbox_to_anchor=(1.4, 0.9)) "
      ],
      "metadata": {
        "id": "V7hi9m_oJ0wj"
      },
      "execution_count": null,
      "outputs": []
    },
    {
      "cell_type": "markdown",
      "source": [
        "## CLUSTER 2019"
      ],
      "metadata": {
        "id": "LZ_J8bD0KIJq"
      }
    },
    {
      "cell_type": "code",
      "source": [
        "from sklearn.cluster import KMeans\n",
        "\n",
        "n_clusters = 3\n",
        "\n",
        "means_cluster = KMeans(n_clusters=n_clusters, random_state=111)\n",
        "columns = [\"NU_NOTA_CN\", \"NU_NOTA_CH\", \"NU_NOTA_LC\", \"NU_NOTA_MT\", \"NU_NOTA_REDACAO\"]\n",
        "est = means_cluster.fit(amostra19[columns])\n",
        "clusters = est.labels_\n",
        "amostra19['cluster'] = clusters\n",
        "for c in range(n_clusters):\n",
        "    cluster_members=amostra19[amostra19['cluster'] == c][:]\n",
        "    print('Cluster{}(n={}):'.format(c, len(cluster_members)))\n",
        "    print('-'* 17)\n",
        "print(amostra19.groupby(['cluster']).mean())"
      ],
      "metadata": {
        "id": "PTglSxwIKXCh"
      },
      "execution_count": null,
      "outputs": []
    },
    {
      "cell_type": "code",
      "source": [
        "amostra19 = amostra19.drop(columns = ['ANO', 'TP_ESCOLA'])\n",
        "amostra19  = amostra19.rename(columns={'NU_NOTA_CN': 'C. NATUREZA'})\n",
        "amostra19  = amostra19.rename(columns={'NU_NOTA_CH': 'C. HUMANAS'})\n",
        "amostra19  = amostra19.rename(columns={'NU_NOTA_LC': 'LINGUAGEM'})\n",
        "amostra19  = amostra19.rename(columns={'NU_NOTA_MT': 'MATEMATICA'})\n",
        "amostra19  = amostra19.rename(columns={'NU_NOTA_REDACAO': 'REDAÇÃO'})\n",
        "\n",
        "for c in range(n_clusters):\n",
        "    cluster_members=amostra19[amostra19['cluster'] == c][:]\n",
        "    print('Cluster{}(n={}):'.format(c, len(cluster_members)))\n",
        "    print('-'* 17)\n",
        "cluster19 = amostra19.groupby(['cluster']).mean().plot.bar()\n",
        "cluster19.legend(bbox_to_anchor=(1.4, 0.9)) "
      ],
      "metadata": {
        "id": "3mxq4BDMKXCi"
      },
      "execution_count": null,
      "outputs": []
    },
    {
      "cell_type": "code",
      "source": [
        "# Criação de array para cálculo da média em cada ano por área\n",
        "ARRAY = [\n",
        "amostra19.NU_NOTA_CN.median(),\n",
        "amostra19.NU_NOTA_CH.median(),\n",
        "amostra19.NU_NOTA_LC.median(),\n",
        "amostra19.NU_NOTA_MT.median(),\n",
        "amostra19.NU_NOTA_REDACAO.median()]\n",
        "\n",
        "ARRAY\n"
      ],
      "metadata": {
        "id": "C3TPoZ_JdwSU",
        "colab": {
          "base_uri": "https://localhost:8080/"
        },
        "outputId": "736761c3-cb3f-4053-b5b3-e740c957be8b"
      },
      "execution_count": null,
      "outputs": [
        {
          "output_type": "execute_result",
          "data": {
            "text/plain": [
              "[452.9, 495.6, 515.8, 485.2, 580.0]"
            ]
          },
          "metadata": {},
          "execution_count": 90
        }
      ]
    },
    {
      "cell_type": "markdown",
      "source": [
        "# Histogramas"
      ],
      "metadata": {
        "id": "0gYdfl-a1_5g"
      }
    },
    {
      "cell_type": "code",
      "source": [
        "#Histograma para cada área de cada ano\n",
        "plt.hist(amostra16.NU_NOTA_MT, 10, rwidth=0.9)\n",
        "plt.show()\n",
        "plt.hist(amostra17.NU_NOTA_MT, 10, rwidth=0.9)\n",
        "plt.show()\n",
        "plt.hist(amostra18.NU_NOTA_MT, 10, rwidth=0.9)\n",
        "plt.show()\n",
        "plt.hist(amostra19.NU_NOTA_MT, 10, rwidth=0.9)\n",
        "plt.show()\n",
        "plt.hist(amostra20.NU_NOTA_MT, 10, rwidth=0.9)\n",
        "plt.show()\n",
        "\n"
      ],
      "metadata": {
        "id": "46qguBkt2HA0"
      },
      "execution_count": null,
      "outputs": []
    },
    {
      "cell_type": "markdown",
      "source": [
        "## CLUSTER 2020"
      ],
      "metadata": {
        "id": "WTWBzWw5ph5d"
      }
    },
    {
      "cell_type": "code",
      "source": [
        "from sklearn.cluster import KMeans\n",
        "\n",
        "n_clusters = 3\n",
        "\n",
        "means_cluster = KMeans(n_clusters=n_clusters, random_state=111)\n",
        "columns = [\"NU_NOTA_CN\", \"NU_NOTA_CH\", \"NU_NOTA_LC\", \"NU_NOTA_MT\", \"NU_NOTA_REDACAO\"]\n",
        "est = means_cluster.fit(amostra19[columns])\n",
        "clusters = est.labels_\n",
        "amostra19['cluster'] = clusters\n",
        "for c in range(n_clusters):\n",
        "    cluster_members=amostra19[amostra19['cluster'] == c][:]\n",
        "    print('Cluster{}(n={}):'.format(c, len(cluster_members)))\n",
        "    print('-'* 17)\n",
        "print(amostra19.groupby(['cluster']).mean())"
      ],
      "metadata": {
        "id": "Y8pUhWRuph5t"
      },
      "execution_count": null,
      "outputs": []
    },
    {
      "cell_type": "code",
      "source": [
        "amostra19 = amostra19.drop(columns = ['ANO', 'TP_ESCOLA'])\n",
        "amostra19  = amostra19.rename(columns={'NU_NOTA_CN': 'C. NATUREZA'})\n",
        "amostra19  = amostra19.rename(columns={'NU_NOTA_CH': 'C. HUMANAS'})\n",
        "amostra19  = amostra19.rename(columns={'NU_NOTA_LC': 'LINGUAGEM'})\n",
        "amostra19  = amostra19.rename(columns={'NU_NOTA_MT': 'MATEMATICA'})\n",
        "amostra19  = amostra19.rename(columns={'NU_NOTA_REDACAO': 'REDAÇÃO'})\n",
        "\n",
        "for c in range(n_clusters):\n",
        "    cluster_members=amostra19[amostra19['cluster'] == c][:]\n",
        "    print('Cluster{}(n={}):'.format(c, len(cluster_members)))\n",
        "    print('-'* 17)\n",
        "cluster19 = amostra19.groupby(['cluster']).mean().plot.bar()\n",
        "cluster19.legend(bbox_to_anchor=(1.4, 0.9)) "
      ],
      "metadata": {
        "id": "podbSMYOph5u"
      },
      "execution_count": null,
      "outputs": []
    },
    {
      "cell_type": "code",
      "source": [
        "# Criação de array para cálculo da média em cada ano por área\n",
        "ARRAY = [\n",
        "amostra19.NU_NOTA_CN.median(),\n",
        "amostra19.NU_NOTA_CH.median(),\n",
        "amostra19.NU_NOTA_LC.median(),\n",
        "amostra19.NU_NOTA_MT.median(),\n",
        "amostra19.NU_NOTA_REDACAO.median()]\n",
        "\n",
        "ARRAY\n"
      ],
      "metadata": {
        "colab": {
          "base_uri": "https://localhost:8080/"
        },
        "outputId": "736761c3-cb3f-4053-b5b3-e740c957be8b",
        "id": "UzYfqNrUph5v"
      },
      "execution_count": null,
      "outputs": [
        {
          "output_type": "execute_result",
          "data": {
            "text/plain": [
              "[452.9, 495.6, 515.8, 485.2, 580.0]"
            ]
          },
          "metadata": {},
          "execution_count": 90
        }
      ]
    },
    {
      "cell_type": "markdown",
      "source": [
        "## CLUSTER 2021"
      ],
      "metadata": {
        "id": "HD5ZaN_kpi9I"
      }
    },
    {
      "cell_type": "code",
      "source": [
        "from sklearn.cluster import KMeans\n",
        "\n",
        "n_clusters = 3\n",
        "\n",
        "means_cluster = KMeans(n_clusters=n_clusters, random_state=111)\n",
        "columns = [\"NU_NOTA_CN\", \"NU_NOTA_CH\", \"NU_NOTA_LC\", \"NU_NOTA_MT\", \"NU_NOTA_REDACAO\"]\n",
        "est = means_cluster.fit(amostra19[columns])\n",
        "clusters = est.labels_\n",
        "amostra19['cluster'] = clusters\n",
        "for c in range(n_clusters):\n",
        "    cluster_members=amostra19[amostra19['cluster'] == c][:]\n",
        "    print('Cluster{}(n={}):'.format(c, len(cluster_members)))\n",
        "    print('-'* 17)\n",
        "print(amostra19.groupby(['cluster']).mean())"
      ],
      "metadata": {
        "id": "KKFv8PGmpi9I"
      },
      "execution_count": null,
      "outputs": []
    },
    {
      "cell_type": "code",
      "source": [
        "amostra19 = amostra19.drop(columns = ['ANO', 'TP_ESCOLA'])\n",
        "amostra19  = amostra19.rename(columns={'NU_NOTA_CN': 'C. NATUREZA'})\n",
        "amostra19  = amostra19.rename(columns={'NU_NOTA_CH': 'C. HUMANAS'})\n",
        "amostra19  = amostra19.rename(columns={'NU_NOTA_LC': 'LINGUAGEM'})\n",
        "amostra19  = amostra19.rename(columns={'NU_NOTA_MT': 'MATEMATICA'})\n",
        "amostra19  = amostra19.rename(columns={'NU_NOTA_REDACAO': 'REDAÇÃO'})\n",
        "\n",
        "for c in range(n_clusters):\n",
        "    cluster_members=amostra19[amostra19['cluster'] == c][:]\n",
        "    print('Cluster{}(n={}):'.format(c, len(cluster_members)))\n",
        "    print('-'* 17)\n",
        "cluster19 = amostra19.groupby(['cluster']).mean().plot.bar()\n",
        "cluster19.legend(bbox_to_anchor=(1.4, 0.9)) "
      ],
      "metadata": {
        "id": "SQgSL0ILpi9J"
      },
      "execution_count": null,
      "outputs": []
    },
    {
      "cell_type": "code",
      "source": [
        "# Criação de array para cálculo da média em cada ano por área\n",
        "ARRAY = [\n",
        "amostra19.NU_NOTA_CN.median(),\n",
        "amostra19.NU_NOTA_CH.median(),\n",
        "amostra19.NU_NOTA_LC.median(),\n",
        "amostra19.NU_NOTA_MT.median(),\n",
        "amostra19.NU_NOTA_REDACAO.median()]\n",
        "\n",
        "ARRAY\n"
      ],
      "metadata": {
        "colab": {
          "base_uri": "https://localhost:8080/"
        },
        "outputId": "736761c3-cb3f-4053-b5b3-e740c957be8b",
        "id": "oKETmQoUpi9K"
      },
      "execution_count": null,
      "outputs": [
        {
          "output_type": "execute_result",
          "data": {
            "text/plain": [
              "[452.9, 495.6, 515.8, 485.2, 580.0]"
            ]
          },
          "metadata": {},
          "execution_count": 90
        }
      ]
    }
  ],
  "metadata": {
    "colab": {
      "provenance": [],
      "mount_file_id": "18B65AxQrgDLmoxIvf36ryPs5gdCVI6-h",
      "authorship_tag": "ABX9TyOvF81ubIbUvBhFu4HGlFIp",
      "include_colab_link": true
    },
    "kernelspec": {
      "display_name": "Python 3",
      "name": "python3"
    },
    "language_info": {
      "name": "python"
    }
  },
  "nbformat": 4,
  "nbformat_minor": 0
}